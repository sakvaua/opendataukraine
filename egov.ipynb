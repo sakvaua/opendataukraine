{
 "cells": [
  {
   "cell_type": "markdown",
   "metadata": {},
   "source": [
    "Exploring tansactional data from www.e-data.gov.ua\n",
    "Download csv file from the server and let the notebook do mundane work for you\n",
    "\n",
    "No exception catching, no tests, no bells and whistles. "
   ]
  },
  {
   "cell_type": "code",
   "execution_count": 24,
   "metadata": {
    "collapsed": true
   },
   "outputs": [],
   "source": [
    "import pandas as pd\n",
    "import numpy as np"
   ]
  },
  {
   "cell_type": "code",
   "execution_count": 25,
   "metadata": {
    "collapsed": false,
    "scrolled": true
   },
   "outputs": [],
   "source": [
    "# You can put your name here\n",
    "transactionsfilename='transaction.csv'"
   ]
  },
  {
   "cell_type": "code",
   "execution_count": 26,
   "metadata": {
    "collapsed": true
   },
   "outputs": [],
   "source": [
    "#We'll need ukrainian stop words to clean up textual info a bit\n",
    "with open('ukrainian-stopwords.txt', 'r') as fr:\n",
    "    stopwords=[x.strip().decode('utf-8') for x in fr.readlines()]"
   ]
  },
  {
   "cell_type": "code",
   "execution_count": 27,
   "metadata": {
    "collapsed": false
   },
   "outputs": [],
   "source": [
    "# Run once. Reformats raw csv into something readable. Removes excessive ;, replaces chr(160) with spaces.\n",
    "# Creates new file with \"_\" at the begining with reformatted data\n",
    "\n",
    "with open('_'+transactionsfilename, 'w') as fw:\n",
    "    with open(transactionsfilename, 'r') as fr:\n",
    "        for line in fr.readlines():\n",
    "            line=line.rstrip()\n",
    "            line=line.replace(chr(160),chr(32))\n",
    "            countsc=line.count(';')\n",
    "            if countsc>11:\n",
    "                indexes=[index for index, c in enumerate(line) if c == ';']\n",
    "                line=line[0:indexes[11]]+(line[indexes[11]:]).replace(';','|')\n",
    "            fw.write(line+'\\n') "
   ]
  },
  {
   "cell_type": "code",
   "execution_count": 35,
   "metadata": {
    "collapsed": false,
    "scrolled": true
   },
   "outputs": [
    {
     "name": "stderr",
     "output_type": "stream",
     "text": [
      "Skipping line 9308: expected 12 fields, saw 20\n",
      "Skipping line 49346: expected 12 fields, saw 16\n",
      "Skipping line 57616: expected 12 fields, saw 16\n",
      "Skipping line 62822: expected 12 fields, saw 16\n",
      "\n",
      "Skipping line 69013: expected 12 fields, saw 16\n",
      "Skipping line 76344: expected 12 fields, saw 16\n",
      "Skipping line 81170: expected 12 fields, saw 16\n",
      "Skipping line 90311: expected 12 fields, saw 14\n",
      "Skipping line 91922: expected 12 fields, saw 14\n",
      "Skipping line 91933: expected 12 fields, saw 20\n",
      "Skipping line 98246: expected 12 fields, saw 16\n",
      "Skipping line 98326: expected 12 fields, saw 16\n",
      "Skipping line 108826: expected 12 fields, saw 16\n",
      "Skipping line 109461: expected 12 fields, saw 16\n"
     ]
    },
    {
     "name": "stdout",
     "output_type": "stream",
     "text": [
      "<class 'pandas.core.frame.DataFrame'>\n",
      "Int64Index: 109571 entries, 0 to 109570\n",
      "Data columns (total 12 columns):\n",
      "№ ТРАНСАКЦІЇ           109571 non-null object\n",
      "ДАТА                   109569 non-null datetime64[ns]\n",
      "КОД ПЛАТНИК            109571 non-null object\n",
      "НАЗВА ПЛАТНИКА         109571 non-null object\n",
      "МФО ПЛАТНИКА           109571 non-null object\n",
      "БАНК ПЛАТНИКА          109571 non-null object\n",
      "КОД ОДЕРЖУВАЧ          109571 non-null object\n",
      "НАЗВА ОДЕРЖУВАЧ        109571 non-null object\n",
      "МФО ОДЕРЖУВАЧ          109571 non-null object\n",
      "БАНК ОДЕРЖУВАЧ         109571 non-null object\n",
      "СУМА                   109571 non-null float64\n",
      "ПРИЗНАЧЕННЯ ПЛАТЕЖУ    109571 non-null object\n",
      "dtypes: datetime64[ns](1), float64(1), object(10)\n",
      "memory usage: 6.7+ MB\n",
      "None\n"
     ]
    },
    {
     "name": "stderr",
     "output_type": "stream",
     "text": [
      "\n"
     ]
    }
   ],
   "source": [
    "#Parses csv and convert dates and sums\n",
    "#contains some badly formatted numbers. Replace them with 0.\n",
    "def myfloat(value):\n",
    "  try:\n",
    "    return float(value)\n",
    "  except:\n",
    "    return 0.0\n",
    "\n",
    "\n",
    "#Read csv\n",
    "transactions=pd.read_csv('_'+transactionsfilename,sep=';', encoding='cp1251',error_bad_lines=False, warn_bad_lines=True,dtype={0:np.object,2:np.object,4:np.object})\n",
    "transactions=transactions.fillna('')\n",
    "\n",
    "\n",
    "#remove all not numbers\n",
    "transactions[u'СУМА']=transactions[u'СУМА'].map(lambda x: myfloat(''.join([char for char in x if char in '1234567890.'])))\n",
    "\n",
    "#Parse dates dd.mm.YYYY\n",
    "#transactions[u'ДАТА']=transactions[u'ДАТА'].map(lambda x:pd.datetime.strptime(x, '%d.%m.%Y'))\n",
    "transactions[u'ДАТА']=pd.to_datetime(transactions[u'ДАТА'], coerce=True)\n",
    "print transactions.info()\n",
    "transactions=transactions.dropna()"
   ]
  },
  {
   "cell_type": "code",
   "execution_count": null,
   "metadata": {
    "collapsed": false
   },
   "outputs": [],
   "source": [
    "#Extract words from \"ПРИЗНАЧЕННЯ ПЛАТЕЖУ\" to word_list\n",
    "word_list = []\n",
    "\n",
    "#add some words specific to the task\n",
    "stopwords+=set([u'xxxx',u'р',u'пол',u'від', u'І',u'xxxxр',u'дог',u'повн'])\n",
    "\n",
    "#remocve numbers and punctuation from 'ПРИЗНАЧЕННЯ ПЛАТЕЖУ' colunm\n",
    "for p in transactions[u'ПРИЗНАЧЕННЯ ПЛАТЕЖУ']:\n",
    "    t=''.join([x if not(x in u'01234567890,.!@#$%^&*()-+=\"/\\[]{}<>?|~;') else ' ' for x in p])\n",
    "    t=[x if not(x in stopwords) and len(x)>3 else '' for x in t.split()]\n",
    "    word_list.extend(t)"
   ]
  },
  {
   "cell_type": "code",
   "execution_count": null,
   "metadata": {
    "collapsed": false,
    "scrolled": true
   },
   "outputs": [],
   "source": [
    "#convert them to Pandas Series. Could've (Should've?) created series from the start but didn't.\n",
    "df=pd.Series(word_list)\n",
    "#count unique words\n",
    "valueseries=df.value_counts()\n",
    "\n",
    "#print top 200 words for analysis with Wordle.org. Later found wordcloud package for python. Didn't try it though.\n",
    "for n in range(200):\n",
    "    print valueseries.index[n],':',valueseries[n]"
   ]
  },
  {
   "cell_type": "code",
   "execution_count": 19,
   "metadata": {
    "collapsed": false
   },
   "outputs": [],
   "source": [
    "#Let's do some plotting\n",
    "%matplotlib inline\n",
    "import matplotlib\n",
    "import matplotlib.pyplot as plt\n",
    "\n",
    "#ggplot style is much better than default one\n",
    "matplotlib.style.use('ggplot')"
   ]
  },
  {
   "cell_type": "code",
   "execution_count": 22,
   "metadata": {
    "collapsed": false
   },
   "outputs": [
    {
     "name": "stdout",
     "output_type": "stream",
     "text": [
      "count    1.080760e+05\n",
      "mean     1.361199e+05\n",
      "std      3.768796e+06\n",
      "min      0.000000e+00\n",
      "25%      1.752000e+02\n",
      "50%      9.016750e+02\n",
      "75%      5.185108e+03\n",
      "max      5.300895e+08\n",
      "Name: СУМА, dtype: float64\n"
     ]
    },
    {
     "data": {
      "text/plain": [
       "<matplotlib.text.Text at 0x1fb89f98>"
      ]
     },
     "execution_count": 22,
     "metadata": {},
     "output_type": "execute_result"
    },
    {
     "data": {
      "image/png": "[encoded data removed]",
      "text/plain": [
       "<matplotlib.figure.Figure at 0x1fa76be0>"
      ]
     },
     "metadata": {},
     "output_type": "display_data"
    }
   ],
   "source": [
    "print transactions[u'СУМА'].describe()\n",
    "\n",
    "#plot a histogram of log10 of 'СУМА' column. Hey! LOOK! GAUSSIAN! Take that Nikolas Taleb!\n",
    "plt.figure()\n",
    "np.log10(transactions[u'СУМА']+1).plot('hist')\n",
    "plt.xlabel(u'Log10 of Sum')\n",
    "plt.ylabel('')"
   ]
  },
  {
   "cell_type": "code",
   "execution_count": null,
   "metadata": {
    "collapsed": false
   },
   "outputs": [],
   "source": [
    "#Your code goes here"
   ]
  },
  {
   "cell_type": "code",
   "execution_count": null,
   "metadata": {
    "collapsed": true
   },
   "outputs": [],
   "source": []
  }
 ],
 "metadata": {
  "kernelspec": {
   "display_name": "Python 2",
   "language": "python",
   "name": "python2"
  },
  "language_info": {
   "codemirror_mode": {
    "name": "ipython",
    "version": 2
   },
   "file_extension": ".py",
   "mimetype": "text/x-python",
   "name": "python",
   "nbconvert_exporter": "python",
   "pygments_lexer": "ipython2",
   "version": "2.7.5"
  }
 },
 "nbformat": 4,
 "nbformat_minor": 0
}
